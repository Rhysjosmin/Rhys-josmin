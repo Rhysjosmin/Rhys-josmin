{
 "cells": [
  {
   "cell_type": "code",
   "execution_count": 3,
   "metadata": {},
   "outputs": [],
   "source": [
    "import torch\n",
    "from transformers import GPT2Tokenizer, GPT2LMHeadModel\n",
    "\n",
    "# Load the GPT-2 model and tokenizer\n",
    "tokenizer = GPT2Tokenizer.from_pretrained(\"gpt2\")\n",
    "model = GPT2LMHeadModel.from_pretrained(\"gpt2\")\n",
    "\n",
    "def generate_script(prompt):\n",
    "    # Encode the prompt\n",
    "    input_ids = torch.tensor((tokenizer.encode(prompt, return_tensors='pt')))\n",
    "    \n",
    "    # Generate text\n",
    "    output = model.generate(input_ids, max_length=3000, top_p=0.9, top_k=50, do_sample=True)\n",
    "    \n",
    "    # Decode the generated text\n",
    "    script = tokenizer.decode(output[0], skip_special_tokens=True)\n",
    "    return script"
   ]
  },
  {
   "cell_type": "code",
   "execution_count": 5,
   "metadata": {},
   "outputs": [
    {
     "name": "stderr",
     "output_type": "stream",
     "text": [
      "C:\\Users\\Rhyso\\AppData\\Local\\Temp\\ipykernel_11704\\1666981099.py:10: UserWarning: To copy construct from a tensor, it is recommended to use sourceTensor.clone().detach() or sourceTensor.clone().detach().requires_grad_(True), rather than torch.tensor(sourceTensor).\n",
      "  input_ids = torch.tensor((tokenizer.encode(prompt, return_tensors='pt')))\n",
      "The attention mask and the pad token id were not set. As a consequence, you may observe unexpected behavior. Please pass your input's `attention_mask` to obtain reliable results.\n",
      "Setting `pad_token_id` to `eos_token_id`:50256 for open-end generation.\n"
     ]
    },
    {
     "name": "stdout",
     "output_type": "stream",
     "text": [
      "Write a movie script about a young girl who discovers she has superpowers and must learn to control them before a sinister organization catches up with her. This is a must read for anyone aspiring to become a movie director.\n",
      "\n",
      "I'm really looking forward to seeing what this book has to offer, but I'm not sure if it will last. It was fun writing it and I'm definitely glad to finally have something like this in my collection. I've always loved watching movies and movies, and I like having a good idea of what's going to come next. I would say it's not too much of a stretch to be skeptical.\n",
      "\n",
      "The novel starts with a story about a young girl who discovers she has superpowers and must learn to control them before a sinister organization catches up with her. This is a must read for anyone aspiring to become a movie director.\n",
      "\n",
      "This is going to be an extremely hard book to read and yet I love the way it's written and the way I've read it. I'm going to start reading more stories now, because it will give me an idea of what will happen after I have a read and I'll be able to enjoy it. The plot has been written and it's going to be fun to read.\n",
      "\n",
      "The novel starts with a story about a young girl who discovers she has superpowers and must learn to control them before a sinister organization catches up with her. This is a must read for anyone aspiring to become a movie director.\n",
      "\n",
      "This is going to be an extremely hard book to read and yet I love the way it's written and the way I've read it. I'm going to start reading more stories now, because it will give me an idea of what will happen after I have a read and I'll be able to enjoy it. The plot has been written and it's going to be fun to read.\n",
      "\n",
      "When you get to a story like this, the first thing you'll notice is it's not that the story doesn't have much that you can learn from it, it's just that it's an extremely well written one. I mean, look at that movie. It was very easy to tell a story and it's about a group of superpowered individuals (at least in this one case). It's very exciting to watch a movie that was so well written. It's about a girl named Mary Jane that learns how to control her powers in a movie, and there's even a movie called The Princess Bride. They're not really her powers, but the two have some connection to her and the world around them.\n",
      "\n",
      "If you didn't know that I was a fan of the Disney movie The Little Mermaid, I will definitely read this book.\n",
      "\n",
      "It's very easy to read and very well written. I think if the stories of the story are told you will really appreciate them.\n",
      "\n",
      "I want to tell this book about a girl who has superpowers and learns to control them before a sinister organization catches up with her and their plans become violent. This story was a good chance to be read for the average person in general, but it has some things that the average movie story isn't.\n",
      "\n",
      "My first review of The Little Mermaid was on Amazon.com so I have been able to have a look for the reviews on Amazon and other places. I also love The Lion King, so I had to go back and re-read that.\n",
      "\n",
      "There are so many good books out there, but what I really loved about this novel is the way it's written. The story is very simple and easy to understand and easy to follow. The plot of The Little Mermaid is a mystery, but I loved the way it's told.\n",
      "\n",
      "The book is incredibly complex and I hope I will not overstate the complexity. There are two different endings, I will tell you that one ending is \"good\" and that the other ends are \"bad\". So, you'll know that all my recommendations are true.\n",
      "\n",
      "This is a great book to read. It's got a lot of interesting twists and turns that will be a great way to go to a place where you have to make tough decisions on what to do, or not to do at all.\n",
      "\n",
      "And, you can read more about it in this Amazon review.\n"
     ]
    }
   ],
   "source": [
    "prompt = \"Write a movie script about a young girl who discovers she has superpowers and must learn to control them before a sinister organization catches up with her.\"\n",
    "script = generate_script(prompt)\n",
    "print(script)"
   ]
  },
  {
   "cell_type": "markdown",
   "metadata": {},
   "source": [
    "import torch\n",
    "import pandas as pd\n",
    "from transformers import GPT2Tokenizer, GPT2LMHeadModel\n",
    "from torch.utils.data import DataLoader, Dataset\n",
    "\n",
    "class ScriptDataset(Dataset):\n",
    "    def __init__(self, tokenizer, data):\n",
    "        self.tokenizer = tokenizer\n",
    "        self.data = data\n",
    "\n",
    "    def __len__(self):\n",
    "        return len(self.data)\n",
    "\n",
    "    def __getitem__(self, index):\n",
    "        script = self.data.iloc[index]['script']\n",
    "        prompt = self.data.iloc[index]['prompt']\n",
    "        script_encoded = self.tokenizer.encode(script, add_special_tokens=True)\n",
    "        prompt_encoded = self.tokenizer.encode(prompt, add_special_tokens=False)\n",
    "        return {'script': script_encoded, 'prompt': prompt_encoded}\n",
    "\n",
    "# Load the GPT-2 model and tokenizer\n",
    "tokenizer = GPT2Tokenizer.from_pretrained(\"gpt2\")\n",
    "model = GPT2LMHeadModel.from_pretrained(\"gpt2\")\n",
    "\n",
    "# Prepare the dataset\n",
    "data = pd.read_csv(\"dataset.csv\")\n",
    "dataset = ScriptDataset(tokenizer, data)\n",
    "dataloader = DataLoader(dataset, batch_size=32, shuffle=True)\n",
    "\n",
    "# Training function\n",
    "def train(model, dataloader, num_epochs):\n",
    "    criterion = torch.nn.CrossEntropyLoss()\n",
    "    optimizer = torch.optim.Adam(model.parameters())\n",
    "    for epoch in range(num_epochs):\n",
    "        for i, sample in enumerate(dataloader):\n",
    "            script = sample['script']\n",
    "            prompt = sample['prompt']\n",
    "            script = script.cpu()\n",
    "            prompt = prompt.cpu()\n",
    "            optimizer.zero_grad()\n",
    "            loss, _ = model(prompt, script)\n",
    "            loss.backward()\n",
    "            optimizer.step()\n"
   ]
  },
  {
   "cell_type": "markdown",
   "metadata": {},
   "source": []
  },
  {
   "cell_type": "markdown",
   "metadata": {},
   "source": [
    "import openai\n",
    "import pandas as pd\n",
    "\n",
    "# Use your own api key\n",
    "openai.api_key = \"YOUR_API_KEY\"\n",
    "\n",
    "def generate_text(prompt):\n",
    "    response = openai.Completion.create(\n",
    "        engine=\"text-davinci-002\",\n",
    "        prompt=prompt,\n",
    "        max_tokens=3000\n",
    "    )\n",
    "    return response[\"choices\"][0][\"text\"]\n",
    "\n",
    "# Generate text\n",
    "prompt = \"Write a movie script about a young girl who discovers she has superpowers and must learn to control them before a sinister organization catches up with her.\"\n",
    "script = generate_text(prompt)\n",
    "\n",
    "# Add to dataset\n",
    "data = pd.read_csv(\"dataset.csv\")\n",
    "data = data.append({'prompt': prompt, 'script': script}, ignore_index=True)\n",
    "data.to_csv(\"dataset.csv\", index=False)\n",
    "\n"
   ]
  },
  {
   "cell_type": "code",
   "execution_count": 20,
   "metadata": {},
   "outputs": [],
   "source": [
    "from gtts import gTTS\n",
    "from playsound import playsound\n",
    "\n",
    "def generate_audio(text, voice='en'):\n",
    "    tts = gTTS(script, lang=voice,tld='ca')\n",
    "    tts.save(\"audio2.mp3\")\n",
    "\n",
    "\n",
    "text = \"Hello, my name is ChatGPT and I am an AI.\"\n",
    "generate_audio(text)\n"
   ]
  }
 ],
 "metadata": {
  "kernelspec": {
   "display_name": "base",
   "language": "python",
   "name": "python3"
  },
  "language_info": {
   "codemirror_mode": {
    "name": "ipython",
    "version": 3
   },
   "file_extension": ".py",
   "mimetype": "text/x-python",
   "name": "python",
   "nbconvert_exporter": "python",
   "pygments_lexer": "ipython3",
   "version": "3.9.13"
  },
  "orig_nbformat": 4,
  "vscode": {
   "interpreter": {
    "hash": "5d1bc4e8955e5bf1bc1e62edeac4af5b49ee96ccaaf80552d380def9590f0d52"
   }
  }
 },
 "nbformat": 4,
 "nbformat_minor": 2
}
